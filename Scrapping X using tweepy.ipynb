{
 "cells": [
  {
   "cell_type": "code",
   "execution_count": null,
   "id": "2439ff44-1f79-4316-9e6c-470fa1cc2907",
   "metadata": {},
   "outputs": [],
   "source": [
    "import tweepy\n",
    "import pandas as pd\n",
    "import time\n",
    "from APIKeys import API_KEY, API_SECRET_KEY, ACCESS_TOKEN, BEARER_TOKEN, SECRET_ACCESS_TOKEN\n",
    "def setup_api():\n",
    "    client = tweepy.Client(\n",
    "    bearer_token=BEARER_TOKEN,\n",
    "    consumer_key=API_KEY,\n",
    "    consumer_secret=API_SECRET_KEY,\n",
    "    access_token=ACCESS_TOKEN,\n",
    "    access_token_secret=SECRET_ACCESS_TOKEN,\n",
    "    wait_on_rate_limit=True)\n",
    "    return client"
   ]
  },
  {
   "cell_type": "code",
   "execution_count": null,
   "id": "1ac6664d-7334-4358-b194-fb5ab377b37a",
   "metadata": {},
   "outputs": [],
   "source": [
    "def fetchTweetsByHashTags(client, maxResult, sincewhen, hashtags):\n",
    "    query = \" OR \".join([f\"#{tag}\" for tag in hashtags])\n",
    "    tweet_fields=['id','author_id','created_at','text','public_metrics','entities']   ## ref https://docs.x.com/x-api/fundamentals/data-dictionary#space\n",
    "    user_fields=['id','username']\n",
    "    allTweets = []\n",
    "    try:\n",
    "        tweets = client.search_recent_tweets(\n",
    "            query=query, tweet_fields=tweet_fields, user_fields=user_fields, max_results=maxResult)\n",
    "    \n",
    "        for tweet in tweets.data: ##.data bcoz https://stackoverflow.com/questions/72186517/tweepy-for-twitter-api-v2-extracting-additional-fields-for-tweet-search\n",
    "            \n",
    "            tweet_data = processTweetData(tweet)\n",
    "            allTweets.append(tweet_data)\n",
    "        print(f\"Found {len(allTweets)} tweets\")\n",
    "    except Exception as e:\n",
    "        print(f\"Exception occured fetchTweetsByHashTags : {e}\")\n",
    "    return allTweets"
   ]
  },
  {
   "cell_type": "code",
   "execution_count": null,
   "id": "3854a2b3-4e3f-45ff-a3c5-c96a19a1b349",
   "metadata": {},
   "outputs": [],
   "source": [
    "def processTweetData(tweet):\n",
    "    tweetData = {\n",
    "        'text' : tweet.text,\n",
    "        'id' : tweet.id,\n",
    "        'created_at' : tweet.created_at,\n",
    "        'author_id' : tweet.author_id\n",
    "        }\n",
    "\n",
    "    ## Extract:  engagement metrics\n",
    "\n",
    "    if(hasattr(tweet, public_metrics) and tweet.public_metrics):\n",
    "        metrics = tweet.public_metrics\n",
    "        tweetData.update({\n",
    "            'retweet_count': metrics.get('retweet_count', 0),\n",
    "            'quote_count': metrics.get('quote_count', 0),\n",
    "            'like_count': metrics.get('like_count', 0),\n",
    "            'reply_count': metrics.get('reply_count', 0)\n",
    "        })\n",
    "\n",
    "    ## Extract: hashtags, mentions\n",
    "\n",
    "    if(hasattr(tweet, entities) and tweet.entities):\n",
    "        entities = tweet.entities\n",
    "\n",
    "        if('hashtags' in tweet.entities):\n",
    "            hashtags = [tag['tag'] for tag in tweet.entities['hashtags']]\n",
    "            tweetData['hashtags'] = hashtags\n",
    "        if('mentions' in tweet.entities):\n",
    "            mentions = [mention['username'] for tag in tweet.entities['mentions']]\n",
    "            tweetData['mentions'] = mentions\n",
    "\n",
    "    return tweetData;"
   ]
  },
  {
   "cell_type": "code",
   "execution_count": null,
   "id": "54f334c9-a907-46a2-9ee7-803f6fc1124e",
   "metadata": {},
   "outputs": [],
   "source": [
    "def getUserData(client, userIds):\n",
    "    if not userIds: return {}\n",
    "        \n",
    "    userFields = [\n",
    "        'id', 'username', 'name'    \n",
    "    ]\n",
    "\n",
    "    usersData = {};\n",
    "\n",
    "    try:\n",
    "        for i in range(0, len(userIds), 100): #since free account has limit of 100, it can be parametrized as max records per api call\n",
    "            bacthuserIds = userIds[i:i+100]\n",
    "            time.sleep(120)\n",
    "            users = client.get_users(ids = bacthuserIds, user_fields = userFields)\n",
    "            print(f\"users ======= {users}\")\n",
    "            if users.data: ##.data bcoz https://docs.x.com/x-api/users/get-users-by-ids\n",
    "                print(f\"users.data ======= {users.data}\")\n",
    "                for user in users.data:\n",
    "                    usersData[user.id] = {\n",
    "                        'user_id' : user.id,\n",
    "                        ##'name' : user.name,\n",
    "                        'username' : user.username\n",
    "                    }\n",
    "    except Exception as e:\n",
    "        print(f\"Exception occured getUserData : {e}\")\n",
    "    return usersData;"
   ]
  },
  {
   "cell_type": "code",
   "execution_count": null,
   "id": "0686f10b-5c32-46a8-8708-7821b0715c9a",
   "metadata": {},
   "outputs": [],
   "source": [
    "def concateTweetAndUserData(userData, tweetData):\n",
    "    if(not tweetData):\n",
    "        print(\"No tweets found\")\n",
    "        return pd.DataFrame()\n",
    "    \n",
    "    finalData = [];\n",
    "    \n",
    "    for tweet in tweetData: \n",
    "        combineData = tweet.copy()\n",
    "        userId = tweet['author_id']\n",
    "\n",
    "        if(userId in userData):\n",
    "            combineData.update(userData[userId])\n",
    "        finalData.append(combineData)\n",
    "    \n",
    "    return pd.DataFrame(finalData)"
   ]
  },
  {
   "cell_type": "code",
   "execution_count": null,
   "id": "0ed813fc-fe97-4e8a-b327-e97c8bc3d160",
   "metadata": {},
   "outputs": [],
   "source": [
    "client = setup_api()\n",
    "tweetData = fetchTweetsByHashTags(client, 11, 7, [\"NASDAQ\", \"AAPL\", \"GOLD\", \"FED\"]) ## free plan allows, 1 requests / 15 mins & total post allowed 100\n",
    "userIdsFromTweets = list(set(tweet['author_id'] for tweet in tweetData))\n",
    "usersData = getUserData(client, userIdsFromTweets)\n",
    "combinedData = concateTweetAndUserData(usersData, tweetData)\n",
    "\n",
    "\n",
    "print(combinedData.info)\n",
    "print(combinedData.size)\n",
    "print(combinedData.head(10))"
   ]
  },
  {
   "cell_type": "code",
   "execution_count": null,
   "id": "4ddcedc8-18a1-4b5f-844d-78ea9ef07529",
   "metadata": {},
   "outputs": [],
   "source": []
  },
  {
   "cell_type": "code",
   "execution_count": null,
   "id": "e9d811da-294f-4c40-adbf-beef33a51e70",
   "metadata": {},
   "outputs": [],
   "source": []
  }
 ],
 "metadata": {
  "kernelspec": {
   "display_name": "Python [conda env:base] *",
   "language": "python",
   "name": "conda-base-py"
  },
  "language_info": {
   "codemirror_mode": {
    "name": "ipython",
    "version": 3
   },
   "file_extension": ".py",
   "mimetype": "text/x-python",
   "name": "python",
   "nbconvert_exporter": "python",
   "pygments_lexer": "ipython3",
   "version": "3.13.5"
  }
 },
 "nbformat": 4,
 "nbformat_minor": 5
}
